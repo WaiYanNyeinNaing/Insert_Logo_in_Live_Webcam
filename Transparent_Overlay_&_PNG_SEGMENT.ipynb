{
 "cells": [
  {
   "cell_type": "code",
   "execution_count": null,
   "metadata": {},
   "outputs": [],
   "source": [
    "import numpy as np\n",
    "import imageio\n",
    "from matplotlib import pyplot as plt\n",
    "from matplotlib.patches import Rectangle\n",
    "from skimage.transform import resize\n",
    "from PIL import Image"
   ]
  },
  {
   "cell_type": "code",
   "execution_count": null,
   "metadata": {},
   "outputs": [],
   "source": [
    "#Read and Display PNG Image\n",
    "\n",
    "path = 'overlay/butterfly1.png'\n",
    "name = path.split(\"/\") [1]\n",
    "print(name)\n",
    "\n",
    "img = Image.open(path)\n",
    "img = img.convert(\"RGBA\")\n",
    "\n",
    "plt.imshow(img)\n",
    "plt.show()"
   ]
  },
  {
   "cell_type": "code",
   "execution_count": null,
   "metadata": {},
   "outputs": [],
   "source": [
    "type(img)\n",
    "img = np.array(img)"
   ]
  },
  {
   "cell_type": "code",
   "execution_count": null,
   "metadata": {},
   "outputs": [],
   "source": [
    "img.shape"
   ]
  },
  {
   "cell_type": "code",
   "execution_count": null,
   "metadata": {},
   "outputs": [],
   "source": [
    "# What's in the 4th channel?\n",
    "plt.imshow(img[:,:,3],cmap='gray')\n",
    "plt.imsave(f\"mask_{name}\",img[:,:,3])\n",
    "plt.show()"
   ]
  },
  {
   "cell_type": "markdown",
   "metadata": {},
   "source": [
    "# Histogram\n"
   ]
  },
  {
   "cell_type": "code",
   "execution_count": null,
   "metadata": {},
   "outputs": [],
   "source": [
    "#Histogram Analaysis\n",
    "\n",
    "plt.hist(img[:,:,3].flatten())\n",
    "plt.show()\n"
   ]
  },
  {
   "cell_type": "code",
   "execution_count": null,
   "metadata": {},
   "outputs": [],
   "source": [
    "#POKE DIM = (200,200)  (OVERLAY IMAGE DIM)\n",
    "#NEW_WIDTH "
   ]
  },
  {
   "cell_type": "markdown",
   "metadata": {},
   "source": [
    "# Working with Real Image"
   ]
  },
  {
   "cell_type": "code",
   "execution_count": null,
   "metadata": {},
   "outputs": [],
   "source": [
    "import numpy as np\n",
    "import cv2 \n",
    "from matplotlib import pyplot as plt\n",
    "\n",
    "\n",
    "path = \"overlay/logo.png\"\n",
    "name = path.split(\"/\") [1]\n",
    "print(name)\n",
    "\n",
    "logo_hist = cv2.imread(path,0)\n",
    "plt.hist(logo_hist.ravel(),256,[0,256]); plt.show()"
   ]
  },
  {
   "cell_type": "code",
   "execution_count": null,
   "metadata": {},
   "outputs": [],
   "source": [
    "img = cv2.imread(path)\n",
    "\n",
    "size = 200\n",
    "logo = cv2.resize(img, (size, size))\n",
    "print(logo.shape)\n",
    "\n",
    "plt.imshow(logo)"
   ]
  },
  {
   "cell_type": "code",
   "execution_count": null,
   "metadata": {},
   "outputs": [],
   "source": [
    "import cv2\n",
    "\n",
    "#Gray Scale Convert\n",
    "gray = cv2.cvtColor(logo, cv2.COLOR_BGR2GRAY)\n",
    "print(gray.shape)"
   ]
  },
  {
   "cell_type": "code",
   "execution_count": null,
   "metadata": {},
   "outputs": [],
   "source": [
    "#Smoothing / Blur\n",
    "blur = cv2.GaussianBlur(gray,(5,5),0)\n",
    "\n",
    "#Mask/Thresholding\n",
    "_, mask = cv2.threshold(blur, 138, 255, cv2.THRESH_BINARY)\n",
    "plt.imshow(mask,cmap='gray')"
   ]
  },
  {
   "cell_type": "code",
   "execution_count": null,
   "metadata": {},
   "outputs": [],
   "source": [
    "#Opening\n",
    "kernel = np.ones((3,3),np.uint8)\n",
    "opening = cv2.morphologyEx(mask, cv2.MORPH_OPEN, kernel)\n",
    "plt.imshow(opening)"
   ]
  },
  {
   "cell_type": "code",
   "execution_count": null,
   "metadata": {},
   "outputs": [],
   "source": [
    "\n",
    "fmask = cv2.resize(opening, logo.shape[1::-1])\n",
    "fmask = cv2.cvtColor(fmask,cv2.COLOR_GRAY2BGR)\n",
    "print(fmask.shape)\n",
    "print(logo.shape)\n",
    "dst = cv2.bitwise_and(fmask, logo)\n",
    "plt.imshow(dst)\n"
   ]
  },
  {
   "cell_type": "code",
   "execution_count": null,
   "metadata": {},
   "outputs": [],
   "source": [
    "import cv2\n",
    "import numpy as np\n",
    " \n",
    " \n",
    "cap = cv2.VideoCapture(0)\n",
    "# This is preprocessing\n",
    "# cap.set(cv2.CAP_PROP_FRAME_WIDTH, 640)\n",
    "# cap.set(cv2.CAP_PROP_FRAME_HEIGHT, 480)\n",
    " \n",
    "\n",
    "    \n",
    "# The main loop\n",
    "while True:\n",
    "    _, frame = cap.read()\n",
    "    # This is the processing\n",
    "    #frame = cv2.resize(frame, (640, 480))\n",
    "    frame = cv2.flip(frame, 1)\n",
    " \n",
    "    roi = frame[-size-10:-10, -size-10:-10]\n",
    "    roi[np.where(opening)] = 0\n",
    "    \n",
    "    # Here we show the image in a window\n",
    "    cv2.imshow(\"Webcam_roi\", roi)\n",
    "\n",
    "    roi += dst\n",
    " \n",
    "    # Here we show the image in a window\n",
    "    cv2.imshow(\"Webcam\", frame)\n",
    " \n",
    "    # Check if q was pressed\n",
    "    if cv2.waitKey(1) == ord('q'):\n",
    "        break"
   ]
  },
  {
   "cell_type": "code",
   "execution_count": null,
   "metadata": {},
   "outputs": [],
   "source": []
  },
  {
   "cell_type": "code",
   "execution_count": null,
   "metadata": {},
   "outputs": [],
   "source": []
  },
  {
   "cell_type": "code",
   "execution_count": null,
   "metadata": {},
   "outputs": [],
   "source": []
  },
  {
   "cell_type": "code",
   "execution_count": null,
   "metadata": {},
   "outputs": [],
   "source": []
  },
  {
   "cell_type": "code",
   "execution_count": null,
   "metadata": {},
   "outputs": [],
   "source": []
  },
  {
   "cell_type": "code",
   "execution_count": null,
   "metadata": {},
   "outputs": [],
   "source": []
  },
  {
   "cell_type": "code",
   "execution_count": null,
   "metadata": {},
   "outputs": [],
   "source": []
  },
  {
   "cell_type": "code",
   "execution_count": null,
   "metadata": {},
   "outputs": [],
   "source": []
  },
  {
   "cell_type": "code",
   "execution_count": null,
   "metadata": {},
   "outputs": [],
   "source": []
  },
  {
   "cell_type": "code",
   "execution_count": null,
   "metadata": {},
   "outputs": [],
   "source": []
  },
  {
   "cell_type": "code",
   "execution_count": null,
   "metadata": {},
   "outputs": [],
   "source": []
  }
 ],
 "metadata": {
  "kernelspec": {
   "display_name": "Python 3",
   "language": "python",
   "name": "python3"
  },
  "language_info": {
   "codemirror_mode": {
    "name": "ipython",
    "version": 3
   },
   "file_extension": ".py",
   "mimetype": "text/x-python",
   "name": "python",
   "nbconvert_exporter": "python",
   "pygments_lexer": "ipython3",
   "version": "3.6.10"
  }
 },
 "nbformat": 4,
 "nbformat_minor": 4
}
